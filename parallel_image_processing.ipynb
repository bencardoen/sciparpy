{
 "cells": [
  {
   "cell_type": "markdown",
   "metadata": {},
   "source": [
    "### Dependencies\n",
    "```Bash\n",
    "$conda install numba pillow scipy joblib numpy imageio\n",
    "$pip install contexttimer\n",
    "```"
   ]
  },
  {
   "cell_type": "code",
   "execution_count": 73,
   "metadata": {},
   "outputs": [],
   "source": [
    "from numba import jit\n",
    "import imageio\n",
    "import contexttimer\n",
    "import time\n",
    "from joblib import Parallel\n",
    "import numpy as np\n",
    "from scipy import ndimage\n",
    "TESTSIZE=100"
   ]
  },
  {
   "cell_type": "markdown",
   "metadata": {},
   "source": [
    "Define the image processing function."
   ]
  },
  {
   "cell_type": "code",
   "execution_count": 74,
   "metadata": {},
   "outputs": [],
   "source": [
    "def process_img(filename_in, filename_out):\n",
    "    '''\n",
    "    Replace with your function loading image, processing it, writing it.\n",
    "    Note that using @jit(nogil=True) will not work, but Python IO does not use the GIL, so you are ok.\n",
    "    '''\n",
    "    img = imageio.imread(filename_in)\n",
    "    rimg = ndimage.rotate(img, 45)\n",
    "    img = imageio.imwrite(filename_out, rimg)\n"
   ]
  },
  {
   "cell_type": "markdown",
   "metadata": {},
   "source": [
    "Generate test images."
   ]
  },
  {
   "cell_type": "code",
   "execution_count": 75,
   "metadata": {},
   "outputs": [],
   "source": [
    "# Create some random data\n",
    "np.random.seed(42)\n",
    "# Build list of filenames\n",
    "inputfiles, outputfiles = zip(*[ ('in_{}.png'.format(i), 'out_{}.png'.format(i)) for i in range(TESTSIZE)])\n",
    "\n",
    "for infile in inputfiles:\n",
    "    imageio.imwrite(infile, np.random.randint(0, 255, (512,512,3), dtype=np.uint8))\n",
    "    "
   ]
  },
  {
   "cell_type": "markdown",
   "metadata": {},
   "source": [
    "Paralellize"
   ]
  },
  {
   "cell_type": "code",
   "execution_count": 76,
   "metadata": {},
   "outputs": [],
   "source": [
    "def parallel_image_processing(inputfilenames, outputfilenames, thread_count):\n",
    "    '''\n",
    "    Execute without timing.\n",
    "    '''\n",
    "    # joblist\n",
    "    # [ (function_name, argumentlist, dict of keyword args), ...]\n",
    "    calc_jobs=[(process_img, [fin, fout],{}) for (fin, fout) in zip(inputfilenames, outputfilenames)]\n",
    "    with Parallel(n_jobs=thread_count,backend='threading') as parallel:\n",
    "        r=parallel(calc_jobs)\n",
    "\n",
    "def benchmark_image_processing(inputfilenames, outputfilenames, thread_count):\n",
    "    '''\n",
    "    Execute and time\n",
    "    '''\n",
    "    calc_jobs=[(process_img, [fin, fout],{}) for (fin, fout) in zip(inputfilenames, outputfilenames)]    \n",
    "    w, c, s = 0, 0, 0\n",
    "    with  contexttimer.Timer(time.perf_counter) as wall:\n",
    "        with contexttimer.Timer(time.process_time) as cpu:\n",
    "            with Parallel(n_jobs=thread_count,backend='threading') as parallel:\n",
    "                r=parallel(calc_jobs)\n",
    "                w = wall.elapsed\n",
    "                c = cpu.elapsed\n",
    "                s = c/w\n",
    "    return w,c,s"
   ]
  },
  {
   "cell_type": "markdown",
   "metadata": {},
   "source": [
    "### No threads"
   ]
  },
  {
   "cell_type": "code",
   "execution_count": 77,
   "metadata": {
    "scrolled": true
   },
   "outputs": [
    {
     "name": "stdout",
     "output_type": "stream",
     "text": [
      "Threading speedup with 100 jobs spread over 1 threads\n",
      "Speedup ratio (1 = Linear) 0.9905359970339439\n",
      "Total Wall Time 29.461417859001813\n",
      "Total CPU Time 29.461417859001813\n"
     ]
    }
   ],
   "source": [
    "threads = 1\n",
    "print('Threading speedup with {} jobs spread over {} threads'.format(len(inputfiles), threads))\n",
    "wall, cpu, speedup = benchmark_image_processing(inputfiles, outputfiles, thread_count=threads)\n",
    "print('Total Wall Time {}'.format(wall))\n",
    "print('Total CPU Time {}'.format(wall))"
   ]
  },
  {
   "cell_type": "markdown",
   "metadata": {},
   "source": [
    "### 4 Threads"
   ]
  },
  {
   "cell_type": "code",
   "execution_count": 79,
   "metadata": {},
   "outputs": [
    {
     "name": "stdout",
     "output_type": "stream",
     "text": [
      "Threading speedup with 100 jobs spread over 4 threads\n",
      "Speedup ratio (1 = Linear) 0.9309372795824026\n",
      "Total Wall Time 11.846061301999725\n",
      "Total CPU Time 11.846061301999725\n",
      "Speedup factor3.7237491183296103\n"
     ]
    }
   ],
   "source": [
    "threads = 4\n",
    "print('Threading speedup with {} jobs spread over {} threads'.format(len(inputfiles), threads))\n",
    "wall, cpu, speedup = benchmark_image_processing(inputfiles, outputfiles, thread_count=threads)\n",
    "print('Speedup ratio (1 = Linear) {}'.format(speedup/threads))\n",
    "print('Total Wall Time {}'.format(wall))\n",
    "print('Total CPU Time {}'.format(wall))\n",
    "print('Speedup factor {}'.format(speedup))"
   ]
  },
  {
   "cell_type": "code",
   "execution_count": null,
   "metadata": {},
   "outputs": [],
   "source": []
  }
 ],
 "metadata": {
  "kernelspec": {
   "display_name": "Python 3",
   "language": "python",
   "name": "python3"
  },
  "language_info": {
   "codemirror_mode": {
    "name": "ipython",
    "version": 3
   },
   "file_extension": ".py",
   "mimetype": "text/x-python",
   "name": "python",
   "nbconvert_exporter": "python",
   "pygments_lexer": "ipython3",
   "version": "3.6.5"
  }
 },
 "nbformat": 4,
 "nbformat_minor": 2
}
