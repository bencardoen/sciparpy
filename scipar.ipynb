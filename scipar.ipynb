{
 "cells": [
  {
   "cell_type": "markdown",
   "metadata": {},
   "source": [
    "### Accelerating Python for Scientific Computing.\n",
    "\n",
    "[Synthetic Use Case based on P. Haustin's Parallel Python Workshop. ](https://github.com/phaustin/parallel_python_course)\n",
    "\n",
    "\n",
    "The idea of the below code is to show you how to accelerate your code with minimal effort. You can go all the way and write in C/C++, but then you'll spend more time writing code and less solving problems.\n",
    "\n",
    "Let's say you're solving problem Y = f(X). It took you 10 hours to implement f in pure Python. It takes 10 days to execute f. F also has a lot of hyperparameters. It runs sequentially, but you have at least 4-8 cores in a modern machine. \n",
    "\n",
    "In this workshop I'll show you how to \n",
    "* accelerate sequential code\n",
    "* use threads and processes to accelerate even more\n",
    "\n",
    "And I'll show you how to do this with only minimal changes to your code. If you need to learn for a week how to write threaded optimized code, then it's not worth it if your code runs in a week. If you can add a single line in 5 minutes to decrease your runtime from a week to an hour, then you might be interested."
   ]
  },
  {
   "cell_type": "markdown",
   "metadata": {},
   "source": [
    "See ./config/install.md for full list of dependencies.\n",
    "First, let's get all imports done."
   ]
  },
  {
   "cell_type": "code",
   "execution_count": 78,
   "metadata": {},
   "outputs": [
    {
     "name": "stdout",
     "output_type": "stream",
     "text": [
      "The Cython extension is already loaded. To reload it, use:\n",
      "  %reload_ext Cython\n"
     ]
    }
   ],
   "source": [
    "import contexttimer\n",
    "import cython\n",
    "from numba import jit\n",
    "import multiprocessing\n",
    "import threading\n",
    "from joblib import Parallel\n",
    "import logging\n",
    "import math\n",
    "import time\n",
    "import numpy as np\n",
    "from scipy.spatial.distance import euclidean\n",
    "from functools import reduce\n",
    "%load_ext Cython\n",
    "import warnings\n",
    "warnings.simplefilter('ignore') # for sqrt overflow in synthetic case\n",
    "import matplotlib.pyplot as plt\n",
    "import vtk"
   ]
  },
  {
   "cell_type": "markdown",
   "metadata": {},
   "source": [
    "## Overview\n",
    "* Speeding up single threaded code\n",
    "    * Cython\n",
    "    * Numba\n",
    "    * Vectorization\n",
    "* Parallel Python -- Defeating the GIL\n",
    "* Parallel IO & Large Datasets\n",
    "* Visualization"
   ]
  },
  {
   "cell_type": "markdown",
   "metadata": {},
   "source": [
    "# 0. Hello parallel world.\n",
    "We define a simple N^4 function that does only computation, uses almost no memory. This example shows you how to get the code running, and what can be achieved. Later on we'll use a more realistic example.\n"
   ]
  },
  {
   "cell_type": "markdown",
   "metadata": {},
   "source": [
    "### Why is Python in 2018 still not parallelizable? Enter the Global Interpreter Lock.\n",
    "The GIL (Global Interpreter Lock) is the main obstacle for Python threading speedup. A single bottleneck that is triggered whenever Python Objects are referenced. High performance modules such as numpy (in C) don't use Python objects, so safely can ignore the GIL.\n",
    "We will define 2 functions using Numba. Numba introduces decorators that will compile your function to C/C++ on the fly. It allows you to specify datatype (like in numpy) and release the GIL. Basically, you can write your own numpy-alike code, without the complexity of writing C!"
   ]
  },
  {
   "cell_type": "markdown",
   "metadata": {},
   "source": [
    "#### Numba\n",
    "Numba allows you to wrap your existing code in a decorator. It will type your code, compile it to C++ on the fly and optionally release the Global Interpreter Lock."
   ]
  },
  {
   "cell_type": "code",
   "execution_count": 3,
   "metadata": {},
   "outputs": [],
   "source": [
    "@jit('float64(int64)', nopython=True, nogil=True)\n",
    "def wait_loop_nogil(n):\n",
    "    out = 0\n",
    "    for m in range(n):\n",
    "        for l in range(m):\n",
    "            for j in range(l):\n",
    "                for i in range(j):\n",
    "                    i=i+4\n",
    "                    out=i**(1/2)\n",
    "                    out=out**2.\n",
    "    return out\n",
    "\n",
    "@jit('float64(int64)', nopython=True, nogil=False)\n",
    "def wait_loop_withgil(n):\n",
    "    out = 0\n",
    "    for m in range(n):\n",
    "        for l in range(m):\n",
    "            for j in range(l):\n",
    "                for i in range(j):\n",
    "                    i=i+4\n",
    "                    out=i**(1/2)\n",
    "                    out=out**2.\n",
    "    return out"
   ]
  },
  {
   "cell_type": "markdown",
   "metadata": {},
   "source": [
    "#### Python"
   ]
  },
  {
   "cell_type": "code",
   "execution_count": 4,
   "metadata": {},
   "outputs": [],
   "source": [
    "def pure_python(n):\n",
    "    out = 0\n",
    "    for m in range(n):\n",
    "        for l in range(m):\n",
    "            for j in range(l):\n",
    "                for i in range(j):\n",
    "                    i=i+4\n",
    "                    out=i**(1/2)\n",
    "                    out=out**2.\n",
    "    return out"
   ]
  },
  {
   "cell_type": "markdown",
   "metadata": {},
   "source": [
    "#### Cython "
   ]
  },
  {
   "cell_type": "code",
   "execution_count": 5,
   "metadata": {},
   "outputs": [],
   "source": [
    "%%cython\n",
    "def cython_loop_typed(long n):\n",
    "    cdef double out\n",
    "    cdef long m\n",
    "    cdef long l\n",
    "    cdef long j\n",
    "    cdef long i\n",
    "    out = 0\n",
    "    for m in range(n):\n",
    "        for l in range(m):\n",
    "            for j in range(l):\n",
    "                for i in range(j):\n",
    "                    i=i+4\n",
    "                    out=i**(1/2)\n",
    "                    out=out**2.\n",
    "    return out"
   ]
  },
  {
   "cell_type": "markdown",
   "metadata": {},
   "source": [
    "#### Defining the benchmark function."
   ]
  },
  {
   "cell_type": "code",
   "execution_count": 6,
   "metadata": {},
   "outputs": [],
   "source": [
    "def benchmark_jitters(func, args, times):\n",
    "    results = np.zeros((times, 3))\n",
    "    for i in range(times):\n",
    "        w, c, s = 0, 0, 0\n",
    "        with  contexttimer.Timer(time.perf_counter) as wall:\n",
    "            with contexttimer.Timer(time.process_time) as cpu:\n",
    "                func(*args)\n",
    "                w = wall.elapsed\n",
    "                c = cpu.elapsed\n",
    "                s = c/w\n",
    "                results[i] = [w,c,s]\n",
    "    return results"
   ]
  },
  {
   "cell_type": "markdown",
   "metadata": {},
   "source": [
    "### How much does Just In Time Compilation help?\n",
    "\n",
    "Let's first look at Pure Python vs Cython. Cython gains most of its speed from typing. Typical Python interpreters generate bytecode that can't make assumptions that compiled code can (type and size of a variable in memory can change between iterations in Python)."
   ]
  },
  {
   "cell_type": "code",
   "execution_count": 7,
   "metadata": {},
   "outputs": [
    {
     "name": "stdout",
     "output_type": "stream",
     "text": [
      "Testing cython_loop_typed\n",
      "Testing pure_python\n",
      "Mean time for cython_loop_typed is \t8.18E+00 with std \t5.86E-01\n",
      "Mean time for pure_python is \t2.73E+01 with std \t9.50E-01\n",
      "Worst is pure_python , best is cython_loop_typed with a speedup of 3.3338176178037973\n"
     ]
    }
   ],
   "source": [
    "funcs = [ cython_loop_typed, pure_python]\n",
    "times = 10\n",
    "n = 200\n",
    "N = len(funcs)\n",
    "results = np.empty((N,times,3))\n",
    "finals = np.empty((N,2))\n",
    "for i,f in enumerate(funcs):\n",
    "    print('Testing {}'.format(f.__name__))\n",
    "    results[i] = benchmark_jitters(f, [n], times)\n",
    "for i,r in enumerate(results):\n",
    "    finals[i] = np.mean(r[:,0]), np.std(r[:,1])\n",
    "M, m = [(-float('inf'), None), (float('inf'), None)]\n",
    "    \n",
    "for f,r in zip(funcs, finals):\n",
    "    M = (r[0], f.__name__) if r[0] > M[0] else M\n",
    "    m = (r[0], f.__name__) if r[0] < m[0] else m\n",
    "    print('Mean time for {} is \\t{:.2E} with std \\t{:.2E}'.format(f.__name__, *r))\n",
    "\n",
    "print('Worst is {} , best is {} with a speedup of {:.2E}'.format(M[1], m[1], M[0]/m[0]))\n"
   ]
  },
  {
   "cell_type": "markdown",
   "metadata": {},
   "source": [
    "### Cython is clearly faster, but the compiled code generated isn't that good.\n",
    "\n",
    "Not as fast as expected, mainly because this code is computation bound (and not memory bound)."
   ]
  },
  {
   "cell_type": "markdown",
   "metadata": {},
   "source": [
    "### JIT vs Cython.\n",
    "How good is the generated code? Cython is not that easy to write (our example is trivial). Numba is more user friendly, and allows us to use objects, or if we don't, releases the GIL. \n",
    "\n",
    "Do you expect a speedup from single threaded code _releasing_ the GIL?"
   ]
  },
  {
   "cell_type": "code",
   "execution_count": 48,
   "metadata": {},
   "outputs": [
    {
     "name": "stdout",
     "output_type": "stream",
     "text": [
      "Testing wait_loop_withgil\n",
      "Testing wait_loop_nogil\n",
      "Testing cython_loop_typed\n",
      "Mean time for wait_loop_withgil is \t1.15E-02 with std \t4.36E-04\n",
      "Mean time for wait_loop_nogil is \t1.12E-02 with std \t3.22E-04\n",
      "Mean time for cython_loop_typed is \t8.45E+00 with std \t1.73E-01\n",
      "\n",
      "Worst is cython_loop_typed , best is wait_loop_nogil with a speedup of 7.53E+02\n",
      "\n",
      "Speedup of releasing the GIL is 1.02E+00\n"
     ]
    }
   ],
   "source": [
    "funcs = [wait_loop_withgil, wait_loop_nogil, cython_loop_typed]\n",
    "times = 10\n",
    "n = 200\n",
    "N = len(funcs)\n",
    "results = np.empty((N,times,3))\n",
    "finals = np.empty((N,2))\n",
    "for i,f in enumerate(funcs):\n",
    "    print('Testing {}'.format(f.__name__))\n",
    "    results[i] = benchmark_jitters(f, [n], times)\n",
    "\n",
    "for i,r in enumerate(results):\n",
    "    finals[i] = np.mean(r[:,0]), np.std(r[:,1])\n",
    "\n",
    "M, m = [(-float('inf'), None), (float('inf'), None)]\n",
    "    \n",
    "for f,r in zip(funcs, finals):\n",
    "    M = (r[0], f.__name__) if r[0] > M[0] else M\n",
    "    m = (r[0], f.__name__) if r[0] < m[0] else m\n",
    "    print('Mean time for {} is \\t{:.2E} with std \\t{:.2E}'.format(f.__name__, *r))\n",
    "\n",
    "print('\\nWorst is {} , best is {} with a speedup of {:.2E}'.format(M[1], m[1], M[0]/m[0]))\n",
    "\n",
    "print('\\nSpeedup of releasing the GIL is {:.2E}'.format(finals[0][0]/finals[1][0]))"
   ]
  },
  {
   "cell_type": "code",
   "execution_count": 50,
   "metadata": {},
   "outputs": [
    {
     "data": {
      "image/png": "[encoded data removed]",
      "text/plain": [
       "<Figure size 432x288 with 1 Axes>"
      ]
     },
     "metadata": {},
     "output_type": "display_data"
    }
   ],
   "source": [
    "best=M[0]\n",
    "x = [i for i in range(len(funcs))]\n",
    "means, sd = best/finals[:,0], finals[:,1]\n",
    "fig, ax0= plt.subplots(nrows=1, sharex=True)\n",
    "ax0.errorbar(x, means, yerr=sd, fmt='-o')\n",
    "ax0.set_title('Sequential Speedup compared to Cython. JIT+GIL (L), JIT-GIL(C), Cython(R)')\n",
    "ax0.set_ylabel('Relative Speedup compared to slowest. ')\n",
    "# ax0.set_yscale('log')\n",
    "plt.show()"
   ]
  },
  {
   "cell_type": "markdown",
   "metadata": {},
   "source": [
    "### JIT is _significantly_ faster than Cython for our example. Releasing the GIL adds even more speed.\n",
    "The reason is the generated code. Numba uses LLVM which invokes Clang with very aggresive optimizations. The quality of C++ code makes all the difference here."
   ]
  },
  {
   "cell_type": "markdown",
   "metadata": {},
   "source": [
    "## Threads and processes in Python made easy with joblib.\n",
    "\n",
    "The threshold of writing process managing code is quite high in Python (multiprocess module, MPI), high enough that it's not worth investing time in it. Joblib makes the threshold significantly lower so you can enjoy a parallel speedup. \n",
    "\n",
    "### A Note about Time\n",
    "\n",
    "We're using contexttimer, which allows us to see the actual time (wall clock) and cpu time used. The distinction is _important_.\n",
    "* Wall time: Physical real world time\n",
    "* CPU time: time where the CPU is executing your code (user CPU time) or doing syscalls (system CPU).\n",
    "\n",
    "Simply timing a function is not going to tell you much about speedup or stalls. When threads hit the GIL, they will stalls so even with 20 cores/threads your CPU time will not be more than wall time. \n",
    "\n",
    "* __Wall < CPU__ : Parallel Speedup\n",
    "* __Wall = CPU__ : Stalled on locks\n",
    "* __Wall > CPU__ : Stalled on IO/Syscalls,Scheduler\n",
    "\n",
    "### Processes and Threads\n",
    "A process has its own memory, a thread (can) share(s) memory. If you can't afford copying data (which you need to do with processes), don't use processes. A process is heavyweight, a thread less so. Threads, however, don't scale that well, you have limited CPUs. Don't use more threads than you have cores. Don't expect 'hyperthreading' to give you a linear speedup."
   ]
  },
  {
   "cell_type": "code",
   "execution_count": 40,
   "metadata": {},
   "outputs": [],
   "source": [
    "njobs, nprocs, nloops = 32, 16, 1000"
   ]
  },
  {
   "cell_type": "markdown",
   "metadata": {},
   "source": [
    "#### Let's define a benchmark function"
   ]
  },
  {
   "cell_type": "code",
   "execution_count": 45,
   "metadata": {},
   "outputs": [],
   "source": [
    "def benchmark(func, jobs, processes, posargs=[], kwargs={}, useprocs=False):\n",
    "    calc_jobs=[(func,posargs,kwargs) for i in range(jobs)]    \n",
    "    w, c, s = 0, 0, 0\n",
    "    with  contexttimer.Timer(time.perf_counter) as wall:\n",
    "        with contexttimer.Timer(time.process_time) as cpu:\n",
    "            with Parallel(n_jobs=processes,backend='threading' if not useprocs else 'multiprocessing') as parallel:\n",
    "                parallel(calc_jobs)\n",
    "                w = wall.elapsed\n",
    "                c = cpu.elapsed\n",
    "                s = c/w\n",
    "            print(f'Wall time {wall.elapsed} and Cpu time {cpu.elapsed}')\n",
    "    print(f'Effective Parallel Speedup (1 is None) = {cpu.elapsed/wall.elapsed}')\n",
    "    return w,c,s"
   ]
  },
  {
   "cell_type": "markdown",
   "metadata": {},
   "source": [
    "#### Threading With the GIL"
   ]
  },
  {
   "cell_type": "code",
   "execution_count": 46,
   "metadata": {},
   "outputs": [
    {
     "name": "stdout",
     "output_type": "stream",
     "text": [
      "Threading speedup with 32 jobs spread over 16 threads\n",
      "Wall time 15.853111556731164 and Cpu time 15.458750341999917\n",
      "Effective Parallel Speedup (1 is None) = 0.9668269277923749\n",
      "Speedup ratio (1 = Linear) 0.061146780829325405\n"
     ]
    }
   ],
   "source": [
    "print('Threading speedup with {} jobs spread over {} threads'.format(njobs, nprocs))\n",
    "wall, cpu, speedup = benchmark(wait_loop_withgil, njobs, nprocs, [nloops], {})\n",
    "print('Speedup ratio (1 = Linear) {}'.format(speedup/nprocs))"
   ]
  },
  {
   "cell_type": "markdown",
   "metadata": {},
   "source": [
    "#### Without GIL"
   ]
  },
  {
   "cell_type": "code",
   "execution_count": 47,
   "metadata": {},
   "outputs": [
    {
     "name": "stdout",
     "output_type": "stream",
     "text": [
      "Parallel speedup with 32 jobs spread over 16 threads\n",
      "Wall time 1.2766712736338377 and Cpu time 16.184895294000057\n",
      "Effective Parallel Speedup (1 is None) = 12.676078460840811\n",
      "Speedup ratio (1 = Linear) 0.8317403540912072\n"
     ]
    }
   ],
   "source": [
    "print('Parallel speedup with {} jobs spread over {} threads'.format(njobs, nprocs))\n",
    "wall, cpu, speedup = benchmark(wait_loop_nogil, njobs, nprocs, [nloops], {})\n",
    "print('Speedup ratio (1 = Linear) {}'.format(speedup/nprocs))"
   ]
  },
  {
   "cell_type": "markdown",
   "metadata": {},
   "source": [
    "With the GIL there is simply __no__ way to accelerate code (unless your code does IO, calls numpy or C libs.)\n",
    "Without the GIL we have a __linear__ speedup."
   ]
  },
  {
   "cell_type": "markdown",
   "metadata": {},
   "source": [
    "#### What about processes?"
   ]
  },
  {
   "cell_type": "code",
   "execution_count": 48,
   "metadata": {},
   "outputs": [
    {
     "name": "stdout",
     "output_type": "stream",
     "text": [
      "Parallel speedup with 32 jobs spread over 16 processes\n",
      "Wall time 6.1091247741132975 and Cpu time 0.2125228639999932\n",
      "Effective Parallel Speedup (1 is None) = 0.03507276574392902\n",
      "Speedup ratio (1 = Linear) 0.002182622035330477\n"
     ]
    }
   ],
   "source": [
    "print('Parallel speedup with {} jobs spread over {} processes'.format(njobs, nprocs))\n",
    "wall, cpu, speedup = benchmark(wait_loop_nogil, njobs, nprocs, [nloops], {}, useprocs=True)\n",
    "print('Speedup ratio (1 = Linear) {}'.format(speedup/nprocs))"
   ]
  },
  {
   "cell_type": "markdown",
   "metadata": {},
   "source": [
    "Processes are a _poor_ choice when the compute time is short and require a copy of data. A good use case for processes is grid search, long running expensive code with almost no copying."
   ]
  },
  {
   "cell_type": "markdown",
   "metadata": {},
   "source": [
    "# 1. A more realistic Use Case: Pairwise Matching of Clusters\n",
    "2 3D point clouds (R, G) each clustered into k, l clusters. Align the 'nearest' clusters.\n",
    "We'll use Chamfer distance, and see if we can accelerate using vectorization, threading, JIT.\n",
    "\n",
    "A note on distance functions and speed: \n",
    "* You can use Ball/KD Trees to accelerate this with NlogN\n",
    "* You can use dot product (sklearn pairwise) but it won't be symmetric"
   ]
  },
  {
   "cell_type": "markdown",
   "metadata": {},
   "source": [
    "### Let's solve the problem itself first.\n",
    "* Define Chamfer distance\n",
    "    * Using pure Python\n",
    "    * Using map-reduce\n",
    "    * JIT'ed\n",
    "* Define pairing function\n",
    "    * Using map-reduce"
   ]
  },
  {
   "cell_type": "code",
   "execution_count": 9,
   "metadata": {},
   "outputs": [],
   "source": [
    "def gen_clusters(n, m, seed=0):\n",
    "    # Generate N clusters of up to m 3D points per cluster with random Gaussian distribution (x/y/z independent)\n",
    "    np.random.seed(seed)\n",
    "    meanrange = [1,10]\n",
    "    sigmarange = [1,3]\n",
    "    # Preallocation will fail since we don't know size of each cluster (1 < m)\n",
    "    clusters = []\n",
    "    for m in np.random.randint(1, m, n):\n",
    "        means, sigmas = np.random.randint(*meanrange, 3), np.random.randint(*sigmarange, 3)\n",
    "        cluster = np.random.normal(loc=means, scale=sigmas, size=(m, 3))\n",
    "        clusters.append(cluster)\n",
    "    return clusters\n",
    "    \n",
    "\n",
    "def chamfer_pure(left, right):\n",
    "    '''\n",
    "    Pure Python code to compute Chamfer distance between two unequal sized clusters\n",
    "    '''\n",
    "    lr = 0\n",
    "    NL, NR = len(left), len(right)\n",
    "    for li in range(NL):\n",
    "        l = left[li]     # Numba doesn't implement type inference when iterating over K-D arrays\n",
    "        m = float('inf')\n",
    "        for ri in range(NR):\n",
    "            r = right[ri]\n",
    "            dlr = np.sqrt(np.dot(l, r))\n",
    "            m = min(m, dlr)\n",
    "        lr += m\n",
    "    rl = 0\n",
    "    for ri in range(NR):\n",
    "        r = right[ri]\n",
    "        m = float('inf')\n",
    "        for li in range(NL):\n",
    "            l = left[li]\n",
    "            dlr = np.sqrt(np.dot(l, r))\n",
    "            m = min(m, dlr)\n",
    "        rl += m\n",
    "    return max(lr/NL, rl/NR)"
   ]
  },
  {
   "cell_type": "markdown",
   "metadata": {},
   "source": [
    "#### Going deeper with Numba\n",
    "Note how we now have not a simple int, but 2 2 dimensional arrays as input. Also, we want to see if builtin parallellism can be used.\n",
    "\n",
    "Our question is, how much work does it take to write chamfer_pure in numba?"
   ]
  },
  {
   "cell_type": "code",
   "execution_count": 18,
   "metadata": {},
   "outputs": [],
   "source": [
    "@jit('float64(float64[:,:], float64[:,:])', nopython=True, nogil=True)  # cache=True can't be used with parallel\n",
    "def chamfer_JIT_bells_whistles(left, right):\n",
    "    '''\n",
    "    JIT'ed version, but with a subtle mistake crippling performance. \n",
    "    I will buy the (first) person who finds the bug a (Belgian) beer.\n",
    "    '''\n",
    "    lr = 0\n",
    "    NL, NR = len(left), len(right)\n",
    "    for li in range(NL):\n",
    "        l = left[li]     # Numba doesn't implement type inference when iterating over K-D arrays\n",
    "        m = np.inf\n",
    "        for ri in range(NR):\n",
    "            r = right[ri]\n",
    "            dlr = np.sqrt(np.dot(l, r))    \n",
    "            m = min(m, dlr)\n",
    "        lr += m\n",
    "    rl = 0\n",
    "    for ri in range(NR):\n",
    "        r = right[ri]\n",
    "        m = np.inf\n",
    "        for li in range(NL):\n",
    "            l = left[li]     # Numba doesn't implement type inference when iterating over K-D arrays\n",
    "            dlr = np.sqrt(np.dot(l, r))\n",
    "            m = min(m, dlr)\n",
    "        rl += m\n",
    "    return max(lr/len(left), rl/len(right))\n",
    "\n",
    "@jit(nopython=True, nogil=True)\n",
    "def chamfer_JIT(left, right):\n",
    "    '''\n",
    "    JIT'ed version\n",
    "    '''\n",
    "    lr = 0\n",
    "    NL, NR = len(left), len(right)\n",
    "    for li in range(NL):\n",
    "        l = left[li]     # Numba doesn't implement type inference when iterating over K-D arrays\n",
    "        m = np.inf\n",
    "        for ri in range(NR):\n",
    "            r = right[ri]\n",
    "            dlr = np.sqrt(np.dot(l, r))   \n",
    "            m = min(m, dlr)\n",
    "        lr += m\n",
    "    rl = 0\n",
    "    for ri in range(NR):\n",
    "        r = right[ri]\n",
    "        m = np.inf\n",
    "        for li in range(NL):\n",
    "            l = left[li]     # Numba doesn't implement type inference when iterating over K-D arrays\n",
    "            dlr = np.sqrt(np.dot(l, r))\n",
    "            m = min(m, dlr)\n",
    "        rl += m\n",
    "    return max(lr/len(left), rl/len(right))\n",
    "\n"
   ]
  },
  {
   "cell_type": "markdown",
   "metadata": {},
   "source": [
    "### @jit\n",
    "@jit(' returntype ( argument types) ', nopython=True/False, nogil=True/False, parallel=True/False, cache=True/False\n",
    "\n",
    "* returntype: float64, int64, type[:] (single array)\n",
    "* argument types: same as returntypes\n",
    "* nopython: don't work with objects (classes) --> everything in Python is an Object, so a void*, and so invokes indirection, pointer chasing, runtime typing.\n",
    "* nogil : Release the Global Interpreter Lock (only if you're not using objects\n",
    "* parallel : use openmp to parallelize your code\n",
    "* cache : store the compiled code to a file (if you run your code 10 times, instead of running a function 10 times)"
   ]
  },
  {
   "cell_type": "markdown",
   "metadata": {},
   "source": [
    "## So what did we need to change?\n",
    "Numba 0.4 does not support for x in array if array is 2 or higher dimensional. So we need to change to code to use indices.\n",
    "The rest of the code is the same.\n",
    "\n",
    "Numba will try to JIT library code, but if it fails be prepared for some deep diving into typing."
   ]
  },
  {
   "cell_type": "markdown",
   "metadata": {},
   "source": [
    "## Adding Functional Programming to the mix\n",
    "The above code is long, for something we can intuitively express in one sentence.\n",
    "\n",
    "__For each clusterset, find the index of the nearest cluster in the other set.__\n",
    "\n",
    "Using functional programming we can get a lot closer to our intent."
   ]
  },
  {
   "cell_type": "code",
   "execution_count": 10,
   "metadata": {},
   "outputs": [],
   "source": [
    "def chamfer_mapreduce(left, right):\n",
    "    '''\n",
    "    Python's Map Reduce style of computing Chamfer\n",
    "    '''\n",
    "    L = sum(map(lambda l: min(map(lambda r: np.sqrt(np.dot(l,r)), right)), left))/len(left)\n",
    "    R = sum(map(lambda r: min(map(lambda l: np.sqrt(np.dot(l,r)), left)), right))/len(right)\n",
    "    return max(L, R)\n",
    "\n",
    "    \n",
    "def pairs_mapreduce(left, rights, chamfer_func):\n",
    "    '''\n",
    "    Find index of right cluster in rights nearest to left using chamfer_func \n",
    "    '''\n",
    "    return min(map(lambda R: (chamfer_func(left, R[1]), R[0]), enumerate(rights)))[1]\n",
    "\n",
    "\n",
    "def solve(L, R, chamfer_func, pairfunc):\n",
    "    return [pairfunc(l,R, chamfer_func) for l in L], [pairfunc(r,L,chamfer_func) for r in R]\n",
    "            \n",
    "    "
   ]
  },
  {
   "cell_type": "markdown",
   "metadata": {},
   "source": [
    "### Understanding Map-Reduce (and when to use it)\n",
    "\n",
    "```Python\n",
    "map( function, iterable) -> iterable\n",
    "```\n",
    "Map returns a new iterable (collection, list, array, dict, ...) where each element is replaced by the result of function(element)\n",
    "\n",
    "```Python\n",
    "map( lambda x : x**2, [1,2,3]) == [1,4,9]\n",
    "```\n",
    "\n",
    "A lambda function is an anonymous function typically used in functional programming describing in a single expression the operation to be performed.\n",
    "\n",
    "##### Why should you care?\n",
    "Map, Reduce, Filter, Itertools, Lambda are succinct expressions what you want to do, and they don't generate intermediate copies. Use them for streams, large data or generated data where in memory storing is too expensive.\n",
    "Unless you hit memory limits they will not be faster, but they __will__ save memory.\n",
    "\n",
    "Map does not 'create' a new list, it creates a generator object.\n",
    "\n",
    "##### Sum of first 1e5 squares. The maximum list size is __1__\n",
    "```Python\n",
    "sum(map(lambda x : x**2, (i for i in range(100000))))\n",
    "```\n",
    "Note (i for i in range(N))\n",
    "\n",
    "This is a generator object, not a list. If we use [i for i in range(N)] we have a list of 1e5 numbers.\n",
    "Technically these are generator comprehension and list comprehension.\n",
    "\n",
    "__Note__ : A generator is exhausted after usage. \n",
    "\n",
    "(i for i in range(N)) is equivalent to writing:\n",
    "```Python\n",
    "def mygenerator(N):\n",
    "    n = 1\n",
    "    yield n\n",
    "    n += 1\n",
    "```\n",
    "[ i for in range(N))] is equivalent to writing:\n",
    "```Python\n",
    "def mylistcomprehension(N):\n",
    "    l = []\n",
    "    for i in range(N)\n",
    "        l.append(i)\n",
    "    return l\n",
    "```\n",
    "\n",
    "\n",
    "#### Decrypting functional oneliners.\n",
    "Great, so how do we read:\n",
    "```Python\n",
    "return min(map(lambda R: (chamfer_func(left, R[1]), R[0]), enumerate(rights)))[1]\n",
    "```\n",
    "\n",
    "The lambda accepts R, a tuple of an index and a cluster (R[0] and R[1]).\n",
    "It computes the chamfer distances between 'left' and each cluster in rights. It then finds the minimum distance. \n",
    "\n",
    "So:\n",
    "\n",
    "* map(...) --> A: ((distance, index), (distance, index), ...)\n",
    "\n",
    "* min(((distance, index), (distance, index), ...)) --> (mindist, corresponding cluster index)\n",
    "\n",
    "* Finally [1] selects the index."
   ]
  },
  {
   "cell_type": "markdown",
   "metadata": {},
   "source": [
    "# Analysis\n"
   ]
  },
  {
   "cell_type": "markdown",
   "metadata": {},
   "source": [
    "Let's make some data. \n",
    "\n",
    "While we do so, look at how you can use list, dictionary and * to neatly express what we want."
   ]
  },
  {
   "cell_type": "code",
   "execution_count": 14,
   "metadata": {},
   "outputs": [
    {
     "name": "stdout",
     "output_type": "stream",
     "text": [
      "Total of 1090 points in L+R\n"
     ]
    }
   ],
   "source": [
    "params = {'L':{'cluster_count':50, 'max_size':35, 'seed':1},  'R':{'cluster_count':30, 'max_size':23, 'seed':2}}\n",
    "\n",
    "L, R = [gen_clusters(*[value for key, value in p.items()]) for _, p in params.items()]\n",
    "\n",
    "points = sum(sum(len(q) for q in Q) for Q in [L,R]) # double nested for loop saved.\n",
    "\n",
    "print('Total of {} points in L+R'.format(points))"
   ]
  },
  {
   "cell_type": "markdown",
   "metadata": {},
   "source": [
    "## Visualizing the Data with VTK/Paraview."
   ]
  },
  {
   "cell_type": "code",
   "execution_count": 108,
   "metadata": {},
   "outputs": [],
   "source": [
    "class VtuWriter(object):\n",
    "    def __init__(self, filename, points, values):\n",
    "        '''\n",
    "        Appends .vtu to filename\n",
    "        '''\n",
    "        self._points= vtk.vtkPoints()\n",
    "        self._grid = vtk.vtkUnstructuredGrid()\n",
    "        self._values = vtk.vtkDoubleArray()\n",
    "        self._values.SetName('point_values_array')\n",
    "        self._grid.SetPoints(self._points)\n",
    "        self._grid.GetPointData().SetScalars(self._values)\n",
    "        self._loadPoints(points, values)\n",
    "        self._write(\"{}.vtu\".format(filename))\n",
    "\n",
    "    def _loadPoints(self, points, values):\n",
    "        poly = vtk.vtkPolyVertex()\n",
    "        poly.GetPointIds().SetNumberOfIds(points.shape[0])\n",
    "        for i, (point, value) in enumerate(zip(points, values)):\n",
    "            poly.GetPointIds().SetId(i, self._points.InsertNextPoint(point))\n",
    "            self._values.InsertNextValue(value) # fix arbitrary data\n",
    "        self._grid.InsertNextCell(poly.GetCellType(), poly.GetPointIds())\n",
    "\n",
    "    def _write(self, filename):\n",
    "        writer = vtk.vtkXMLUnstructuredGridWriter()\n",
    "        writer.SetFileName(filename)\n",
    "        writer.SetInputData(self._grid)\n",
    "        writer.Write()\n",
    "\n",
    "        \n",
    "def concatenateArrays(points):\n",
    "    rows = [p.shape[0] for p in points]\n",
    "    result = np.empty((sum(rows), points[0].shape[1]))\n",
    "    values = np.zeros((sum(rows), 1))\n",
    "    rownr = 0\n",
    "    for index,p in enumerate(points):\n",
    "        result[rownr:rownr+rows[index]] = p\n",
    "        rownr += rows[index]\n",
    "        values[rownr:rownr+rows[index]] = index\n",
    "    return result, values\n",
    "    \n",
    "def writeClustersMerged(C):\n",
    "    for i,c in enumerate(C):\n",
    "        merged = concatenateArrays(c)\n",
    "        print('Writing {}'.format(len(merged[0])))\n",
    "        VtuWriter('cluster_{}'.format(i), *merged)"
   ]
  },
  {
   "cell_type": "code",
   "execution_count": 109,
   "metadata": {},
   "outputs": [
    {
     "name": "stdout",
     "output_type": "stream",
     "text": [
      "Writing 6449\n",
      "Writing 4116\n"
     ]
    }
   ],
   "source": [
    "writeClustersMerged([L,R])"
   ]
  },
  {
   "cell_type": "markdown",
   "metadata": {},
   "source": [
    "### Visualize with Paraview.\n",
    "* Open Paraview\n",
    "* Load State\n",
    "* Select ./state/\n",
    "\n",
    "![Clusters visualized in Paraview](./img/data_set.png \"Title\")\n"
   ]
  },
  {
   "cell_type": "markdown",
   "metadata": {},
   "source": [
    "### Pure vs Functional"
   ]
  },
  {
   "cell_type": "code",
   "execution_count": 16,
   "metadata": {},
   "outputs": [
    {
     "name": "stdout",
     "output_type": "stream",
     "text": [
      "Testing solve_pure\n",
      "Testing solve_mapreduce\n",
      "Mean time for solve_pure is \t9.01E+00 with std \t6.07E-02\n",
      "Mean time for solve_mapreduce is \t8.27E+00 with std \t1.15E-01\n",
      "\n",
      "Worst is solve_pure , best is solve_mapreduce with a speedup of 1.09E+00\n"
     ]
    }
   ],
   "source": [
    "# Let's define some shorthands\n",
    "def solve_pure(L, R):\n",
    "    return solve(L, R, chamfer_pure, pairs_mapreduce)\n",
    "\n",
    "def solve_mapreduce(L,R):\n",
    "    return solve(L, R, chamfer_mapreduce, pairs_mapreduce)\n",
    "\n",
    "funcs = [solve_pure, solve_mapreduce]\n",
    "times = 2\n",
    "N = len(funcs)\n",
    "results, finals = np.empty((N,times,3)), np.empty((N,2))\n",
    "\n",
    "for i,f in enumerate(funcs):\n",
    "    print('Testing {}'.format(f.__name__))\n",
    "    results[i] = benchmark_jitters(f, [L,R], times)\n",
    "\n",
    "for i,r in enumerate(results):\n",
    "    finals[i] = np.mean(r[:,0]), np.std(r[:,1])\n",
    "\n",
    "M, m = [(-float('inf'), None), (float('inf'), None)]\n",
    "    \n",
    "for f,r in zip(funcs, finals):\n",
    "    M = (r[0], f.__name__) if r[0] > M[0] else M\n",
    "    m = (r[0], f.__name__) if r[0] < m[0] else m\n",
    "    print('Mean time for {} is \\t{:.2E} with std \\t{:.2E}'.format(f.__name__, *r))\n",
    "\n",
    "print('\\nWorst is {} , best is {} with a speedup of {:.2E}'.format(M[1], m[1], M[0]/m[0]))"
   ]
  },
  {
   "cell_type": "code",
   "execution_count": null,
   "metadata": {},
   "outputs": [],
   "source": []
  },
  {
   "cell_type": "markdown",
   "metadata": {},
   "source": [
    "#### Map Reduce doesn't improve that much in speed (small data sets, computation dominated). "
   ]
  },
  {
   "cell_type": "markdown",
   "metadata": {},
   "source": [
    "### Pure vs JIT"
   ]
  },
  {
   "cell_type": "code",
   "execution_count": 23,
   "metadata": {},
   "outputs": [
    {
     "name": "stdout",
     "output_type": "stream",
     "text": [
      "Testing solve_pure\n",
      "Testing solve_mapreduce\n",
      "Testing solve_jit\n",
      "Mean time for solve_pure is \t8.50E+00 with std \t2.38E-01\n",
      "Mean time for solve_mapreduce is \t7.77E+00 with std \t2.65E-01\n",
      "Mean time for solve_jit is \t7.53E-02 with std \t1.63E-02\n",
      "\n",
      "Worst is solve_pure , best is solve_jit with a speedup of 1.13E+02\n"
     ]
    }
   ],
   "source": [
    "def solve_pure(L, R):\n",
    "    return solve(L, R, chamfer_pure, pairs_mapreduce)\n",
    "\n",
    "def solve_mapreduce(L,R):\n",
    "    return solve(L, R, chamfer_mapreduce, pairs_mapreduce)\n",
    "\n",
    "def solve_jit(L, R):\n",
    "    return solve(L, R, chamfer_JIT, pairs_mapreduce)\n",
    "    \n",
    "def solve_jitplus(L, R):\n",
    "    return solve(L, R, chamfer_JIT_bells_whistles, pairs_mapreduce)\n",
    "\n",
    "funcs = [solve_pure, solve_mapreduce, solve_jit]\n",
    "times = 10\n",
    "N = len(funcs)\n",
    "results = np.empty((N,times,3))\n",
    "finals = np.empty((N,2))\n",
    "for i,f in enumerate(funcs):\n",
    "    print('Testing {}'.format(f.__name__))\n",
    "    results[i] = benchmark_jitters(f, [L,R], times)\n",
    "\n",
    "for i,r in enumerate(results):\n",
    "    finals[i] = np.mean(r[:,0]), np.std(r[:,1])\n",
    "\n",
    "M, m = [(-float('inf'), None), (float('inf'), None)]\n",
    "    \n",
    "for f,r in zip(funcs, finals):\n",
    "    M = (r[0], f.__name__) if r[0] > M[0] else M\n",
    "    m = (r[0], f.__name__) if r[0] < m[0] else m\n",
    "    print('Mean time for {} is \\t{:.2E} with std \\t{:.2E}'.format(f.__name__, *r))\n",
    "\n",
    "best = m[0]\n",
    "print('\\nWorst is {} , best is {} with a speedup of {:.2E}'.format(M[1], m[1], M[0]/m[0]))"
   ]
  },
  {
   "cell_type": "code",
   "execution_count": 47,
   "metadata": {},
   "outputs": [
    {
     "data": {
      "image/png": "[encoded data removed]",
      "text/plain": [
       "<Figure size 432x288 with 1 Axes>"
      ]
     },
     "metadata": {},
     "output_type": "display_data"
    }
   ],
   "source": [
    "best=M[0]\n",
    "x = [i for i in range(len(funcs))]\n",
    "means, sd = best/finals[:,0], finals[:,1]\n",
    "fig, ax0= plt.subplots(nrows=1, sharex=True)\n",
    "ax0.errorbar(x, means, yerr=sd, fmt='-o')\n",
    "ax0.set_title('Sequential Speedup compared to Pure Python. Python (L), MapReduce(C), Numba(R)')\n",
    "ax0.set_ylabel('Relative Speedup compared to slowest. ')\n",
    "# ax0.set_yscale('log')\n",
    "plt.show()"
   ]
  },
  {
   "cell_type": "markdown",
   "metadata": {},
   "source": [
    "The explicitly typed JIT code is slower due to a mistake in the type declaration."
   ]
  },
  {
   "cell_type": "markdown",
   "metadata": {},
   "source": [
    "### Parallell\n",
    "So now we have an order of magnitude speedup. This was sequential only. We're already using numpy. \n",
    "Let's go parallel.\n",
    "\n",
    "L = [l1, l2, ..., ln]\n",
    "R = [r1, r2, ..., rn]\n",
    "\n",
    "So let's split the work in two (L-R and R to L)\n",
    "Then we split the work in l1-R, l2-R, ...."
   ]
  },
  {
   "cell_type": "code",
   "execution_count": 58,
   "metadata": {},
   "outputs": [],
   "source": [
    "# Define shorthand\n",
    "def psolve(l, R):\n",
    "    pairs_mapreduce(l, R, chamfer_JIT)\n",
    "\n",
    "def solve(L, R, chamfer_func, pairfunc):\n",
    "    return [pairfunc(l,R, chamfer_func) for l in L], [pairfunc(r,L,chamfer_func) for r in R]\n",
    "            \n",
    "\n",
    "def benchmark_solver(L, R, processes, useprocs=False):\n",
    "    calc_jobs=[(psolve, [l, R],{}) for l in L] + [(psolve, [r, L],{}) for r in R]\n",
    "    w, c, s = 0, 0, 0\n",
    "    with  contexttimer.Timer(time.perf_counter) as wall:\n",
    "        with contexttimer.Timer(time.process_time) as cpu:\n",
    "            with Parallel(n_jobs=processes,backend='threading' if not useprocs else 'multiprocessing') as parallel:\n",
    "                r=parallel(calc_jobs)\n",
    "                w = wall.elapsed\n",
    "                c = cpu.elapsed\n",
    "                s = c/w\n",
    "    return w,c,s"
   ]
  },
  {
   "cell_type": "code",
   "execution_count": 164,
   "metadata": {},
   "outputs": [
    {
     "name": "stdout",
     "output_type": "stream",
     "text": [
      "Total of 83219 points in L+R\n"
     ]
    }
   ],
   "source": [
    "params = {'L':{'cluster_count':400, 'max_size':200, 'seed':1},  'R':{'cluster_count':200, 'max_size':450, 'seed':2}}\n",
    "\n",
    "L, R = [gen_clusters(*[value for key, value in p.items()]) for _, p in params.items()]\n",
    "\n",
    "points = sum(sum(len(q) for q in Q) for Q in [L,R]) # double nested for loop saved.\n",
    "\n",
    "print('Total of {} points in L+R'.format(points))"
   ]
  },
  {
   "cell_type": "markdown",
   "metadata": {},
   "source": [
    "## Weak Scaling behaviour of Parallel Python\n",
    "#### What happens if we have the same amount of work but throw more threads at it?"
   ]
  },
  {
   "cell_type": "code",
   "execution_count": 161,
   "metadata": {},
   "outputs": [
    {
     "name": "stdout",
     "output_type": "stream",
     "text": [
      "Wall time 165.43012145068496 and Cpu time 321.4172645919998\n",
      "Effective Parallel Speedup (1 is None) = 1.939507388952666\n",
      "Wall time 167.59992555342615 and Cpu time 324.21549043100003\n",
      "Effective Parallel Speedup (1 is None) = 1.9322688819263387\n",
      "Wall time 174.86549894604832 and Cpu time 324.05219635400044\n",
      "Effective Parallel Speedup (1 is None) = 1.8504412337462075\n",
      "Wall time 188.68512505758554 and Cpu time 321.3511342890006\n",
      "Effective Parallel Speedup (1 is None) = 1.7016074161897083\n",
      "Wall time 182.22527581453323 and Cpu time 325.06370527800027\n",
      "Effective Parallel Speedup (1 is None) = 1.782608818620311\n",
      "Wall time 180.87644483707845 and Cpu time 321.3229615449991\n",
      "Effective Parallel Speedup (1 is None) = 1.7746769066244532\n",
      "Wall time 183.85728101525456 and Cpu time 321.6588034390006\n",
      "Effective Parallel Speedup (1 is None) = 1.7485367182477713\n",
      "Wall time 184.30601975601166 and Cpu time 320.9943826310009\n",
      "Effective Parallel Speedup (1 is None) = 1.7404760306804057\n",
      "Wall time 198.5391414044425 and Cpu time 322.7628378370009\n",
      "Effective Parallel Speedup (1 is None) = 1.6243623805369385\n",
      "Wall time 193.74158086720854 and Cpu time 321.2103373959999\n",
      "Effective Parallel Speedup (1 is None) = 1.6573436528656833\n",
      "Wall time 94.98292154446244 and Cpu time 326.01713150900105\n",
      "Effective Parallel Speedup (1 is None) = 3.423097209293948\n",
      "Wall time 93.873236480169 and Cpu time 326.196446173999\n",
      "Effective Parallel Speedup (1 is None) = 3.4725934761572437\n",
      "Wall time 94.34768019896 and Cpu time 326.0148321880006\n",
      "Effective Parallel Speedup (1 is None) = 3.450370585355581\n",
      "Wall time 90.65048925671726 and Cpu time 324.9632003030001\n",
      "Effective Parallel Speedup (1 is None) = 3.582693085808692\n",
      "Wall time 95.7992107514292 and Cpu time 327.14220327399926\n",
      "Effective Parallel Speedup (1 is None) = 3.4103576454306097\n",
      "Wall time 99.01244391221553 and Cpu time 326.13591476000147\n",
      "Effective Parallel Speedup (1 is None) = 3.2916486226852855\n",
      "Wall time 102.12141093611717 and Cpu time 328.22165513099935\n",
      "Effective Parallel Speedup (1 is None) = 3.211235247398652\n",
      "Wall time 100.1181485131383 and Cpu time 325.43437273400014\n",
      "Effective Parallel Speedup (1 is None) = 3.246868184876142\n",
      "Wall time 101.13429316226393 and Cpu time 325.3837570860014\n",
      "Effective Parallel Speedup (1 is None) = 3.214046836874357\n",
      "Wall time 96.62403665296733 and Cpu time 326.1565405349993\n",
      "Effective Parallel Speedup (1 is None) = 3.3689741503699695\n",
      "Wall time 56.563270293176174 and Cpu time 361.095096346\n",
      "Effective Parallel Speedup (1 is None) = 6.378201551895081\n",
      "Wall time 59.388986306265 and Cpu time 360.66683780099993\n",
      "Effective Parallel Speedup (1 is None) = 6.06425601383324\n",
      "Wall time 58.8894515754655 and Cpu time 361.2682126609998\n",
      "Effective Parallel Speedup (1 is None) = 6.1194937592052225\n",
      "Wall time 60.47504727821797 and Cpu time 362.5647306690007\n",
      "Effective Parallel Speedup (1 is None) = 5.988266585565126\n",
      "Wall time 57.721721719019115 and Cpu time 359.2536296500002\n",
      "Effective Parallel Speedup (1 is None) = 6.216009007852807\n",
      "Wall time 59.53607106767595 and Cpu time 359.5980341459999\n",
      "Effective Parallel Speedup (1 is None) = 6.030020019956679\n",
      "Wall time 56.340928899124265 and Cpu time 360.62409026000023\n",
      "Effective Parallel Speedup (1 is None) = 6.3890131758431865\n",
      "Wall time 56.07378244865686 and Cpu time 361.72218607600007\n",
      "Effective Parallel Speedup (1 is None) = 6.439573030110486\n",
      "Wall time 59.17833804246038 and Cpu time 359.516451821999\n",
      "Effective Parallel Speedup (1 is None) = 6.044426881932115\n",
      "Wall time 56.115792780183256 and Cpu time 358.80947897700025\n",
      "Effective Parallel Speedup (1 is None) = 6.3834802801341\n",
      "Wall time 31.351583040319383 and Cpu time 384.36816634500065\n",
      "Effective Parallel Speedup (1 is None) = 12.230255885884125\n",
      "Wall time 30.788528186269104 and Cpu time 382.8326775409987\n",
      "Effective Parallel Speedup (1 is None) = 12.369541736231907\n",
      "Wall time 30.241189722903073 and Cpu time 382.90262982999775\n",
      "Effective Parallel Speedup (1 is None) = 12.402689999924617\n",
      "Wall time 28.965106283314526 and Cpu time 381.0180540440015\n",
      "Effective Parallel Speedup (1 is None) = 13.107945642126381\n",
      "Wall time 30.08530377689749 and Cpu time 382.48213656900043\n",
      "Effective Parallel Speedup (1 is None) = 12.64865845473074\n",
      "Wall time 28.613318433985114 and Cpu time 382.6914162799985\n",
      "Effective Parallel Speedup (1 is None) = 13.296235762421578\n",
      "Wall time 32.80480419378728 and Cpu time 382.90231288299765\n",
      "Effective Parallel Speedup (1 is None) = 11.639595702138406\n",
      "Wall time 30.66094843763858 and Cpu time 383.0774938880022\n",
      "Effective Parallel Speedup (1 is None) = 12.45220801934131\n",
      "Wall time 33.46978207398206 and Cpu time 384.2179893290013\n",
      "Effective Parallel Speedup (1 is None) = 11.464254188789099\n",
      "Wall time 30.595398145727813 and Cpu time 383.2490650730033\n",
      "Effective Parallel Speedup (1 is None) = 12.50783137169629\n",
      "Wall time 23.142528669908643 and Cpu time 383.6329589730012\n",
      "Effective Parallel Speedup (1 is None) = 16.56883092232676\n",
      "Wall time 20.77645702380687 and Cpu time 381.9824290100005\n",
      "Effective Parallel Speedup (1 is None) = 17.381305262354076\n",
      "Wall time 20.747365581803024 and Cpu time 383.25184483200064\n",
      "Effective Parallel Speedup (1 is None) = 18.450251650880965\n",
      "Wall time 21.804348956793547 and Cpu time 384.4586900860013\n",
      "Effective Parallel Speedup (1 is None) = 17.62313241554302\n",
      "Wall time 22.706437439657748 and Cpu time 382.9796975410027\n",
      "Effective Parallel Speedup (1 is None) = 16.844680042646473\n",
      "Wall time 17.772593814879656 and Cpu time 380.80055386000095\n",
      "Effective Parallel Speedup (1 is None) = 21.335633629720327\n",
      "Wall time 20.73494486324489 and Cpu time 383.5419308769997\n",
      "Effective Parallel Speedup (1 is None) = 18.32440528594282\n",
      "Wall time 22.01169817522168 and Cpu time 382.160138741001\n",
      "Effective Parallel Speedup (1 is None) = 16.965774196803526\n",
      "Wall time 30.976081527769566 and Cpu time 384.25858919700113\n",
      "Effective Parallel Speedup (1 is None) = 12.359854157749554\n",
      "Wall time 20.6696497220546 and Cpu time 382.5981622979998\n",
      "Effective Parallel Speedup (1 is None) = 18.40751348614817\n",
      "Using 2 threads achieves mean speedup 1.78E+00 +- 1.01E-01\n",
      "Using 2 threads achieves mean relative speedup 8.89E-01 +- 1.01E-01\n",
      "Using 4 threads achieves mean speedup 3.37E+00 +- 1.18E-01\n",
      "Using 4 threads achieves mean relative speedup 8.43E-01 +- 1.18E-01\n",
      "Using 8 threads achieves mean speedup 6.22E+00 +- 1.66E-01\n",
      "Using 8 threads achieves mean relative speedup 7.78E-01 +- 1.66E-01\n",
      "Using 16 threads achieves mean speedup 1.25E+01 +- 5.58E-01\n",
      "Using 16 threads achieves mean relative speedup 7.81E-01 +- 5.58E-01\n",
      "Using 32 threads achieves mean speedup 1.76E+01 +- 2.16E+00\n",
      "Using 32 threads achieves mean relative speedup 5.51E-01 +- 2.16E+00\n"
     ]
    }
   ],
   "source": [
    "procs = [2,4,8,16,32]\n",
    "times = 10\n",
    "njobs = len(L) + len(R)\n",
    "results = np.zeros((len(procs), times, 4))\n",
    "finals = np.zeros((len(procs), 2))\n",
    "for ni,nprocs in enumerate(procs):\n",
    "    for t in range(times):\n",
    "        wall, cpu, speedup = benchmark_solver(L, R, nprocs, False)\n",
    "        ratio = speedup/nprocs\n",
    "        results[ni][t] = wall, cpu, speedup, ratio\n",
    "    finals[ni] = np.mean(results[ni][:,2]), np.std(results[ni][:,2])\n",
    "            \n",
    "for p,(m,s) in zip(procs, finals):\n",
    "    print('Using {} threads achieves mean speedup {:.2E} +- {:.2E}'.format(p, m, s))\n",
    "    print('Using {} threads achieves mean relative speedup {:.2E} +- {:.2E}'.format(p, m/p, s))"
   ]
  },
  {
   "cell_type": "code",
   "execution_count": 55,
   "metadata": {},
   "outputs": [
    {
     "data": {
      "image/png": "[encoded data removed]",
      "text/plain": [
       "<Figure size 432x288 with 2 Axes>"
      ]
     },
     "metadata": {},
     "output_type": "display_data"
    }
   ],
   "source": [
    "x = [2,4,8,16,32]\n",
    "means, sd = [1.78, 3.37, 6.22, 12.5, 17.6], [1.01e-01, 1.18e-01, 1.166e-01, 5.58e-01, 2.16] \n",
    "rel = [m/x for (m,x) in zip(means, x)]\n",
    "fig, (ax0, ax1)= plt.subplots(ncols=2, sharex=True)\n",
    "ax0.errorbar(x, means, yerr=sd, fmt='-o')\n",
    "ax0.set_title('Mean speedup with parallel processes.')\n",
    "ax0.set_ylabel('Mean speedup factor +- 1SD')\n",
    "ax1.plot(x, rel)\n",
    "ax1.set_xlabel('Threads')\n",
    "ax1.set_ylabel('Relative speedup (1 is optimal)')\n",
    "ax1.yaxis.set_label_position(\"right\")\n",
    "ax1.set_title('Relative speedup')\n",
    "plt.show()"
   ]
  },
  {
   "cell_type": "markdown",
   "metadata": {},
   "source": [
    "## Strong Scaling: Same number of threads, but increase the load."
   ]
  },
  {
   "cell_type": "code",
   "execution_count": 72,
   "metadata": {},
   "outputs": [
    {
     "name": "stdout",
     "output_type": "stream",
     "text": [
      "Generating data with 10\n",
      "Generating data with 20\n",
      "Generating data with 40\n",
      "Generating data with 80\n",
      "Generating data with 160\n",
      "Using 689 jobs achieves mean speedup 2.43E+00 +- 3.35E-01\n",
      "Using 1219 jobs achieves mean speedup 3.11E+00 +- 3.06E-01\n",
      "Using 2558 jobs achieves mean speedup 3.64E+00 +- 2.38E-01\n",
      "Using 5107 jobs achieves mean speedup 3.84E+00 +- 6.84E-02\n",
      "Using 10565 jobs achieves mean speedup 3.69E+00 +- 1.51E-01\n"
     ]
    }
   ],
   "source": [
    "ccounts = [10, 20, 40, 80, 160]\n",
    "nprocs = 4\n",
    "times = 10\n",
    "njobs = len(L) + len(R)\n",
    "results = np.zeros((len(ccounts), times, 4))\n",
    "finals = np.zeros((len(ccounts), 2))\n",
    "points = []\n",
    "for ni,c in enumerate(ccounts):\n",
    "    print('Generating data with {}'.format(c))\n",
    "    params = {'L':{'cluster_count':c+5, 'max_size':80, 'seed':1},  'R':{'cluster_count':c-5, 'max_size':50, 'seed':2}}\n",
    "    L, R = [gen_clusters(*[value for key, value in p.items()]) for _, p in params.items()]\n",
    "    points.append( sum(sum(len(q) for q in Q) for Q in [L,R]) )\n",
    "    \n",
    "    for t in range(times):\n",
    "        wall, cpu, speedup = benchmark_solver(L, R, nprocs, False)\n",
    "        ratio = speedup/nprocs\n",
    "        results[ni][t] = wall, cpu, speedup, ratio\n",
    "    finals[ni] = np.mean(results[ni][:,2]), np.std(results[ni][:,2])\n",
    "    \n",
    "for p,(m,s),pts in zip(ccounts, finals, points):\n",
    "    print('Using {} jobs achieves mean speedup {:.2E} +- {:.2E}'.format(pts, m, s))"
   ]
  },
  {
   "cell_type": "code",
   "execution_count": 76,
   "metadata": {},
   "outputs": [
    {
     "data": {
      "image/png": "[encoded data removed]",
      "text/plain": [
       "<Figure size 432x288 with 2 Axes>"
      ]
     },
     "metadata": {},
     "output_type": "display_data"
    }
   ],
   "source": [
    "x = ccounts\n",
    "means, sd = finals[:,0], finals[:,1]\n",
    "fig, (ax0,ax1)= plt.subplots(ncols=2, sharex=True)\n",
    "ax0.errorbar(x, means, yerr=sd, fmt='-o')\n",
    "plt.suptitle('Strong scaling with doubling input size.')\n",
    "ax0.set_ylabel('Relative Speedup compared to sequential.')\n",
    "ax1.errorbar(x, means/nprocs, yerr=sd/nprocs, fmt='-o')\n",
    "ax1.set_ylabel('Relative Normalized Speedup.')\n",
    "ax1.yaxis.set_label_position(\"right\")\n",
    "plt.show()"
   ]
  },
  {
   "cell_type": "markdown",
   "metadata": {},
   "source": [
    "## Conclusion\n",
    "\n",
    "* Sequental Speedup: __x10-100__\n",
    "* Parallel Speedup: __.5-1 * per thread__\n",
    "\n",
    "## Tips\n",
    "* Don't use more threads than you have cores (and with hyperthreading you will rarely get linear speedup)\n"
   ]
  },
  {
   "cell_type": "code",
   "execution_count": null,
   "metadata": {},
   "outputs": [],
   "source": []
  }
 ],
 "metadata": {
  "kernelspec": {
   "display_name": "Python 3",
   "language": "python",
   "name": "python3"
  },
  "language_info": {
   "codemirror_mode": {
    "name": "ipython",
    "version": 3
   },
   "file_extension": ".py",
   "mimetype": "text/x-python",
   "name": "python",
   "nbconvert_exporter": "python",
   "pygments_lexer": "ipython3",
   "version": "3.6.5"
  }
 },
 "nbformat": 4,
 "nbformat_minor": 2
}
